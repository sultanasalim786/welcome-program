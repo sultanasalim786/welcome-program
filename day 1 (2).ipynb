{
 "cells": [
  {
   "cell_type": "markdown",
   "id": "ca51f646-fd34-4a0a-b5b6-14dad403a4d3",
   "metadata": {},
   "source": [
    "## chapter 1"
   ]
  },
  {
   "cell_type": "markdown",
   "id": "0b9c3fcb-59d5-4bb4-8b90-47934eed89ef",
   "metadata": {},
   "source": [
    "### hello world"
   ]
  },
  {
   "cell_type": "code",
   "execution_count": 1,
   "id": "558d6331-dd7b-433c-94b2-52860f5d383d",
   "metadata": {},
   "outputs": [
    {
     "name": "stdout",
     "output_type": "stream",
     "text": [
      "hello world\n"
     ]
    }
   ],
   "source": [
    "print(\"hello world\")"
   ]
  },
  {
   "cell_type": "code",
   "execution_count": 3,
   "id": "51f82659-7d37-4b4f-b5d1-b1ffb3f88e4a",
   "metadata": {},
   "outputs": [
    {
     "data": {
      "text/plain": [
       "20"
      ]
     },
     "execution_count": 3,
     "metadata": {},
     "output_type": "execute_result"
    }
   ],
   "source": [
    "a=20\n",
    "x=30\n",
    "a"
   ]
  },
  {
   "cell_type": "code",
   "execution_count": 4,
   "id": "88c02736-8d30-41c4-9442-cd746cd56323",
   "metadata": {},
   "outputs": [
    {
     "name": "stdout",
     "output_type": "stream",
     "text": [
      "nasir's class is boring\n"
     ]
    }
   ],
   "source": [
    "print (\"nasir's class is boring\")"
   ]
  },
  {
   "cell_type": "markdown",
   "id": "57c81e75-b3a7-4302-8626-201bdd0851a3",
   "metadata": {},
   "source": [
    "## variables"
   ]
  },
  {
   "cell_type": "code",
   "execution_count": 9,
   "id": "f6707e76-11a7-472e-86d0-210647af9b1e",
   "metadata": {},
   "outputs": [
    {
     "name": "stdout",
     "output_type": "stream",
     "text": [
      "20\n"
     ]
    }
   ],
   "source": [
    "a=20\n",
    "print(a)"
   ]
  },
  {
   "cell_type": "code",
   "execution_count": 10,
   "id": "c094bc31-b99a-452c-99ed-3aceba986f5c",
   "metadata": {},
   "outputs": [
    {
     "data": {
      "text/plain": [
       "float"
      ]
     },
     "execution_count": 10,
     "metadata": {},
     "output_type": "execute_result"
    }
   ],
   "source": [
    "x=10.2\n",
    "type(x)"
   ]
  },
  {
   "cell_type": "markdown",
   "id": "f0b0225f-a15a-4708-bb8a-e516b58903ee",
   "metadata": {},
   "source": [
    "### pyton comments"
   ]
  },
  {
   "cell_type": "code",
   "execution_count": 12,
   "id": "f6fec6c8-c13d-44e9-8c49-004f8576cc0b",
   "metadata": {},
   "outputs": [],
   "source": [
    "# sum of a and b\n",
    "\"\"\"\n",
    "a=10\n",
    "b=20\n",
    "sum=a+b"
   ]
  },
  {
   "cell_type": "code",
   "execution_count": 13,
   "id": "0aa60062-e21d-4b48-bc58-18a57f172020",
   "metadata": {},
   "outputs": [
    {
     "name": "stdout",
     "output_type": "stream",
     "text": [
      "30\n"
     ]
    }
   ],
   "source": [
    "print(a+b)"
   ]
  },
  {
   "cell_type": "markdown",
   "id": "321fb4e9-89f6-47d9-9964-06f7632e6052",
   "metadata": {},
   "source": [
    "### data types"
   ]
  },
  {
   "cell_type": "code",
   "execution_count": 15,
   "id": "bd9e016c-23ff-4e97-88df-d04fd40350c0",
   "metadata": {},
   "outputs": [
    {
     "data": {
      "text/plain": [
       "bool"
      ]
     },
     "execution_count": 15,
     "metadata": {},
     "output_type": "execute_result"
    }
   ],
   "source": [
    "a=20\n",
    "b=10.2\n",
    "c=3+5j\n",
    "type(1==0)"
   ]
  },
  {
   "cell_type": "markdown",
   "id": "7f103d29-eb09-43af-bb25-7a9b312a869f",
   "metadata": {},
   "source": [
    "### slicing operation"
   ]
  },
  {
   "cell_type": "code",
   "execution_count": 17,
   "id": "eab99c7f-2765-4398-ae70-79fc74e7a854",
   "metadata": {},
   "outputs": [
    {
     "data": {
      "text/plain": [
       "'sultana'"
      ]
     },
     "execution_count": 17,
     "metadata": {},
     "output_type": "execute_result"
    }
   ],
   "source": [
    "name=\"sultana\"\n",
    "name"
   ]
  },
  {
   "cell_type": "code",
   "execution_count": 18,
   "id": "2433d0b6-d398-4199-806d-537dff6e36d9",
   "metadata": {},
   "outputs": [
    {
     "data": {
      "text/plain": [
       "'eshaan shahzad'"
      ]
     },
     "execution_count": 18,
     "metadata": {},
     "output_type": "execute_result"
    }
   ],
   "source": [
    "name=\"eshaan shahzad\"\n",
    "name"
   ]
  },
  {
   "cell_type": "code",
   "execution_count": 20,
   "id": "1759962f-b78d-41d0-802d-eac0f1a67764",
   "metadata": {},
   "outputs": [
    {
     "data": {
      "text/plain": [
       "'h'"
      ]
     },
     "execution_count": 20,
     "metadata": {},
     "output_type": "execute_result"
    }
   ],
   "source": [
    "name[2]"
   ]
  },
  {
   "cell_type": "code",
   "execution_count": 22,
   "id": "8f538268-b737-47a8-9f19-db218bbff1d2",
   "metadata": {},
   "outputs": [
    {
     "data": {
      "text/plain": [
       "'esha'"
      ]
     },
     "execution_count": 22,
     "metadata": {},
     "output_type": "execute_result"
    }
   ],
   "source": [
    "name[0:4]"
   ]
  },
  {
   "cell_type": "markdown",
   "id": "0acef2ef-5823-43c1-9c14-fcff18b854d9",
   "metadata": {},
   "source": [
    "## concat"
   ]
  },
  {
   "cell_type": "code",
   "execution_count": null,
   "id": "5d52e4af-09b3-4faf-a1d5-82698a2588cc",
   "metadata": {},
   "outputs": [],
   "source": [
    "first_name=\"eshaan\""
   ]
  },
  {
   "cell_type": "code",
   "execution_count": null,
   "id": "3e5dc184-a135-43ec-a721-0e7256a1447a",
   "metadata": {},
   "outputs": [],
   "source": [
    "last_name=\"shahzad\""
   ]
  },
  {
   "cell_type": "code",
   "execution_count": null,
   "id": "896127e5-0ad9-477a-b5cb-8195c1e0eda5",
   "metadata": {},
   "outputs": [],
   "source": [
    "full_name=first_name+last_name"
   ]
  },
  {
   "cell_type": "code",
   "execution_count": 49,
   "id": "da298ac4-f870-407e-909c-e9e4c6dc8399",
   "metadata": {},
   "outputs": [
    {
     "ename": "NameError",
     "evalue": "name 'full_name' is not defined",
     "output_type": "error",
     "traceback": [
      "\u001b[1;31m---------------------------------------------------------------------------\u001b[0m",
      "\u001b[1;31mNameError\u001b[0m                                 Traceback (most recent call last)",
      "Cell \u001b[1;32mIn[49], line 1\u001b[0m\n\u001b[1;32m----> 1\u001b[0m \u001b[43mfull_name\u001b[49m\n",
      "\u001b[1;31mNameError\u001b[0m: name 'full_name' is not defined"
     ]
    }
   ],
   "source": [
    "full_name"
   ]
  },
  {
   "cell_type": "code",
   "execution_count": null,
   "id": "f0df7900-fd06-41e8-a09c-cd407b268c3a",
   "metadata": {},
   "outputs": [],
   "source": []
  }
 ],
 "metadata": {
  "kernelspec": {
   "display_name": "Python 3 (ipykernel)",
   "language": "python",
   "name": "python3"
  },
  "language_info": {
   "codemirror_mode": {
    "name": "ipython",
    "version": 3
   },
   "file_extension": ".py",
   "mimetype": "text/x-python",
   "name": "python",
   "nbconvert_exporter": "python",
   "pygments_lexer": "ipython3",
   "version": "3.12.1"
  }
 },
 "nbformat": 4,
 "nbformat_minor": 5
}
